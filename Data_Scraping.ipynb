{
 "cells": [
  {
   "cell_type": "code",
   "execution_count": 48,
   "id": "dbf98489-dab5-4e5d-a8ec-5305f2f2a7cf",
   "metadata": {},
   "outputs": [],
   "source": [
    "# Import libraries\n",
    "\n",
    "import pandas as pd\n",
    "import time\n",
    "from selenium import webdriver\n",
    "from selenium import webdriver\n",
    "from selenium.webdriver.chrome.service import Service\n",
    "from selenium.webdriver.chrome.options import Options\n",
    "from webdriver_manager.chrome import ChromeDriverManager\n",
    "import matplotlib.pyplot as plt \n",
    "import os\n",
    "import logging\n",
    "from selenium.webdriver.common.by import By\n",
    "from bs4 import BeautifulSoup\n",
    "import requests "
   ]
  },
  {
   "cell_type": "code",
   "execution_count": 49,
   "id": "3c9db1f5-a8af-426d-a56e-65cd0a355e9e",
   "metadata": {},
   "outputs": [],
   "source": [
    "# service  =  Service(executable_path=ChromeDriverManager().install())\n",
    "# driver = webdriver.Chrome(executable_path=r'/Users/parthamandal/Alice_network_analysis/chrome-mac-arm64')\n",
    "# This does not work!!! \" ValueError: There is no such driver by url https://chromedriver.storage.googleapis.com/134.0.6998/chromedriver_mac_arm64.zip\"\n",
    "# Instead use autoinstaller using pip install chromedriver-autoinstaller"
   ]
  },
  {
   "cell_type": "code",
   "execution_count": 57,
   "id": "4ef05c21-d295-437d-a86a-17d6dce787f5",
   "metadata": {},
   "outputs": [],
   "source": [
    "#service\n",
    "\n",
    "import chromedriver_autoinstaller\n",
    "from selenium import webdriver\n",
    "\n",
    "# This auto-installs the matching driver for your Chrome version\n",
    "chromedriver_autoinstaller.install()\n",
    "\n",
    "# Start the browser\n",
    "driver = webdriver.Chrome()"
   ]
  },
  {
   "cell_type": "markdown",
   "id": "361362e3-9e2f-42e3-8889-0d19d247ad0e",
   "metadata": {},
   "source": [
    "Data Scraping using Selenium"
   ]
  },
  {
   "cell_type": "code",
   "execution_count": 58,
   "id": "81c9d4d9-0e5a-40ae-ba15-f7ffe29e97f0",
   "metadata": {},
   "outputs": [],
   "source": [
    "# Get the page’s contents\n",
    "\n",
    "page_url = \"https://en.wikipedia.org/wiki/Alice%27s_Adventures_in_Wonderland\"\n",
    "driver.get(page_url)"
   ]
  },
  {
   "cell_type": "code",
   "execution_count": 59,
   "id": "5a728294-c50e-45c4-8702-76bb49d5670f",
   "metadata": {},
   "outputs": [
    {
     "data": {
      "text/plain": [
       "'Alice\\nThe White Rabbit\\nThe Mouse\\nThe Dodo\\nThe Lory\\nThe Eaglet\\nThe Duck\\nPat\\nBill the Lizard\\nPuppy\\nThe Caterpillar\\nThe Duchess\\nThe Cheshire Cat\\nThe Hatter\\nThe March Hare\\nThe Dormouse\\nThe Queen of Hearts\\nThe King of Hearts\\nThe Knave of Hearts\\nThe Gryphon\\nThe Mock Turtle'"
      ]
     },
     "execution_count": 59,
     "metadata": {},
     "output_type": "execute_result"
    }
   ],
   "source": [
    "# Create a collection of the characters\n",
    "\n",
    "characters_elems = driver.find_elements(by = By.CLASS_NAME, value = 'div-col')\n",
    "characters_elems[0].text"
   ]
  },
  {
   "cell_type": "code",
   "execution_count": 60,
   "id": "048338d6-60d0-4d09-bcfc-4075476abafb",
   "metadata": {},
   "outputs": [
    {
     "data": {
      "text/plain": [
       "['Alice',\n",
       " 'The White Rabbit',\n",
       " 'The Mouse',\n",
       " 'The Dodo',\n",
       " 'The Lory',\n",
       " 'The Eaglet',\n",
       " 'The Duck',\n",
       " 'Pat',\n",
       " 'Bill the Lizard',\n",
       " 'Puppy',\n",
       " 'The Caterpillar',\n",
       " 'The Duchess',\n",
       " 'The Cheshire Cat',\n",
       " 'The Hatter',\n",
       " 'The March Hare',\n",
       " 'The Dormouse',\n",
       " 'The Queen of Hearts',\n",
       " 'The King of Hearts',\n",
       " 'The Knave of Hearts',\n",
       " 'The Gryphon',\n",
       " 'The Mock Turtle']"
      ]
     },
     "execution_count": 60,
     "metadata": {},
     "output_type": "execute_result"
    }
   ],
   "source": [
    "list_char = characters_elems[0].text.split(\"\\n\")\n",
    "list_char"
   ]
  },
  {
   "cell_type": "code",
   "execution_count": 61,
   "id": "16ddf4cd-d4a2-4cc3-b09f-bb56eea922f5",
   "metadata": {},
   "outputs": [
    {
     "data": {
      "text/html": [
       "<div>\n",
       "<style scoped>\n",
       "    .dataframe tbody tr th:only-of-type {\n",
       "        vertical-align: middle;\n",
       "    }\n",
       "\n",
       "    .dataframe tbody tr th {\n",
       "        vertical-align: top;\n",
       "    }\n",
       "\n",
       "    .dataframe thead th {\n",
       "        text-align: right;\n",
       "    }\n",
       "</style>\n",
       "<table border=\"1\" class=\"dataframe\">\n",
       "  <thead>\n",
       "    <tr style=\"text-align: right;\">\n",
       "      <th></th>\n",
       "      <th>character</th>\n",
       "    </tr>\n",
       "  </thead>\n",
       "  <tbody>\n",
       "    <tr>\n",
       "      <th>0</th>\n",
       "      <td>Alice</td>\n",
       "    </tr>\n",
       "    <tr>\n",
       "      <th>1</th>\n",
       "      <td>The White Rabbit</td>\n",
       "    </tr>\n",
       "    <tr>\n",
       "      <th>2</th>\n",
       "      <td>The Mouse</td>\n",
       "    </tr>\n",
       "    <tr>\n",
       "      <th>3</th>\n",
       "      <td>The Dodo</td>\n",
       "    </tr>\n",
       "    <tr>\n",
       "      <th>4</th>\n",
       "      <td>The Lory</td>\n",
       "    </tr>\n",
       "    <tr>\n",
       "      <th>5</th>\n",
       "      <td>The Eaglet</td>\n",
       "    </tr>\n",
       "    <tr>\n",
       "      <th>6</th>\n",
       "      <td>The Duck</td>\n",
       "    </tr>\n",
       "    <tr>\n",
       "      <th>7</th>\n",
       "      <td>Pat</td>\n",
       "    </tr>\n",
       "    <tr>\n",
       "      <th>8</th>\n",
       "      <td>Bill the Lizard</td>\n",
       "    </tr>\n",
       "    <tr>\n",
       "      <th>9</th>\n",
       "      <td>Puppy</td>\n",
       "    </tr>\n",
       "    <tr>\n",
       "      <th>10</th>\n",
       "      <td>The Caterpillar</td>\n",
       "    </tr>\n",
       "    <tr>\n",
       "      <th>11</th>\n",
       "      <td>The Duchess</td>\n",
       "    </tr>\n",
       "    <tr>\n",
       "      <th>12</th>\n",
       "      <td>The Cheshire Cat</td>\n",
       "    </tr>\n",
       "    <tr>\n",
       "      <th>13</th>\n",
       "      <td>The Hatter</td>\n",
       "    </tr>\n",
       "    <tr>\n",
       "      <th>14</th>\n",
       "      <td>The March Hare</td>\n",
       "    </tr>\n",
       "    <tr>\n",
       "      <th>15</th>\n",
       "      <td>The Dormouse</td>\n",
       "    </tr>\n",
       "    <tr>\n",
       "      <th>16</th>\n",
       "      <td>The Queen of Hearts</td>\n",
       "    </tr>\n",
       "    <tr>\n",
       "      <th>17</th>\n",
       "      <td>The King of Hearts</td>\n",
       "    </tr>\n",
       "    <tr>\n",
       "      <th>18</th>\n",
       "      <td>The Knave of Hearts</td>\n",
       "    </tr>\n",
       "    <tr>\n",
       "      <th>19</th>\n",
       "      <td>The Gryphon</td>\n",
       "    </tr>\n",
       "    <tr>\n",
       "      <th>20</th>\n",
       "      <td>The Mock Turtle</td>\n",
       "    </tr>\n",
       "  </tbody>\n",
       "</table>\n",
       "</div>"
      ],
      "text/plain": [
       "              character\n",
       "0                 Alice\n",
       "1      The White Rabbit\n",
       "2             The Mouse\n",
       "3              The Dodo\n",
       "4              The Lory\n",
       "5            The Eaglet\n",
       "6              The Duck\n",
       "7                   Pat\n",
       "8       Bill the Lizard\n",
       "9                 Puppy\n",
       "10      The Caterpillar\n",
       "11          The Duchess\n",
       "12     The Cheshire Cat\n",
       "13           The Hatter\n",
       "14       The March Hare\n",
       "15         The Dormouse\n",
       "16  The Queen of Hearts\n",
       "17   The King of Hearts\n",
       "18  The Knave of Hearts\n",
       "19          The Gryphon\n",
       "20      The Mock Turtle"
      ]
     },
     "execution_count": 61,
     "metadata": {},
     "output_type": "execute_result"
    }
   ],
   "source": [
    "# Put the characters into a dataframe\n",
    "\n",
    "df = pd.DataFrame(list_char, columns = [\"character\"]) \n",
    "df"
   ]
  },
  {
   "cell_type": "code",
   "execution_count": 62,
   "id": "569b8e28-b311-4d4c-9067-847af6dab3d7",
   "metadata": {},
   "outputs": [],
   "source": [
    "df.to_csv(\"alice_characters.csv\", index=False)"
   ]
  },
  {
   "cell_type": "markdown",
   "id": "d1c09e56-5566-4298-b198-18aa2d9d4829",
   "metadata": {},
   "source": [
    "Data Scraping using Beutiful Soup"
   ]
  },
  {
   "cell_type": "code",
   "execution_count": 64,
   "id": "2a17aa15-d5cd-4d97-9471-86b7611a582f",
   "metadata": {},
   "outputs": [],
   "source": [
    "# Get URL\n",
    "\n",
    "# page_url =  requests.get(\"https://en.wikipedia.org/wiki/Alice%27s_Adventures_in_Wonderland\")\n",
    "\n",
    "url = \"https://en.wikipedia.org/wiki/Alice%27s_Adventures_in_Wonderland\"\n",
    "response = requests.get(url)"
   ]
  },
  {
   "cell_type": "code",
   "execution_count": 65,
   "id": "12155cd6-2745-46f5-87e1-b3d9ab2265fa",
   "metadata": {},
   "outputs": [
    {
     "name": "stdout",
     "output_type": "stream",
     "text": [
      "<title>Alice's Adventures in Wonderland - Wikipedia</title>\n"
     ]
    }
   ],
   "source": [
    "# Create soup and get title\n",
    "\n",
    "soup = BeautifulSoup(response.text, 'html.parser')\n",
    "print(soup.title) "
   ]
  },
  {
   "cell_type": "code",
   "execution_count": 66,
   "id": "40719ef0-d745-4393-9f35-1a4f1f4512d7",
   "metadata": {},
   "outputs": [],
   "source": [
    "text = soup.get_text()\n",
    "\n",
    "text = text.encode ('utf-8')\n",
    "\n",
    "with open('Alice_article_Wiki.txt', 'wb') as f:\n",
    "       f.write(text)"
   ]
  },
  {
   "cell_type": "code",
   "execution_count": null,
   "id": "6386259d-a4bb-4bbf-b8ff-680e70807724",
   "metadata": {},
   "outputs": [],
   "source": []
  }
 ],
 "metadata": {
  "kernelspec": {
   "display_name": "Python [conda env:alice_env_310] *",
   "language": "python",
   "name": "conda-env-alice_env_310-py"
  },
  "language_info": {
   "codemirror_mode": {
    "name": "ipython",
    "version": 3
   },
   "file_extension": ".py",
   "mimetype": "text/x-python",
   "name": "python",
   "nbconvert_exporter": "python",
   "pygments_lexer": "ipython3",
   "version": "3.10.16"
  }
 },
 "nbformat": 4,
 "nbformat_minor": 5
}
