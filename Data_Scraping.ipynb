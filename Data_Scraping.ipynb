{
 "cells": [
  {
   "cell_type": "code",
   "execution_count": 40,
   "id": "dbf98489-dab5-4e5d-a8ec-5305f2f2a7cf",
   "metadata": {},
   "outputs": [],
   "source": [
    "# Import libraries\n",
    "\n",
    "import pandas as pd\n",
    "import time\n",
    "from selenium import webdriver\n",
    "from selenium import webdriver\n",
    "from selenium.webdriver.chrome.service import Service\n",
    "from selenium.webdriver.chrome.options import Options\n",
    "from webdriver_manager.chrome import ChromeDriverManager\n",
    "import matplotlib.pyplot as plt \n",
    "import os\n",
    "import logging\n",
    "from selenium.webdriver.common.by import By\n",
    "from bs4 import BeautifulSoup\n",
    "import requests"
   ]
  },
  {
   "cell_type": "code",
   "execution_count": 41,
   "id": "3c9db1f5-a8af-426d-a56e-65cd0a355e9e",
   "metadata": {},
   "outputs": [],
   "source": [
    "# service  =  Service(executable_path=ChromeDriverManager().install())\n",
    "# driver = webdriver.Chrome(executable_path=r'/Users/parthamandal/Alice_network_analysis/chrome-mac-arm64')\n",
    "# This does not work!!! \" ValueError: There is no such driver by url https://chromedriver.storage.googleapis.com/134.0.6998/chromedriver_mac_arm64.zip\"\n",
    "# Instead use autoinstaller using pip install chromedriver-autoinstaller"
   ]
  },
  {
   "cell_type": "code",
   "execution_count": 42,
   "id": "4ef05c21-d295-437d-a86a-17d6dce787f5",
   "metadata": {},
   "outputs": [],
   "source": [
    "#service\n",
    "\n",
    "import chromedriver_autoinstaller\n",
    "from selenium import webdriver\n",
    "\n",
    "# This auto-installs the matching driver for your Chrome version\n",
    "chromedriver_autoinstaller.install()\n",
    "\n",
    "# Start the browser\n",
    "driver = webdriver.Chrome()"
   ]
  },
  {
   "cell_type": "markdown",
   "id": "361362e3-9e2f-42e3-8889-0d19d247ad0e",
   "metadata": {},
   "source": [
    "# Data Scraping using Selenium"
   ]
  },
  {
   "cell_type": "code",
   "execution_count": 43,
   "id": "81c9d4d9-0e5a-40ae-ba15-f7ffe29e97f0",
   "metadata": {},
   "outputs": [],
   "source": [
    "# Get the page’s contents\n",
    "\n",
    "page_url = \"https://en.wikipedia.org/wiki/Alice%27s_Adventures_in_Wonderland\"\n",
    "driver.get(page_url)"
   ]
  },
  {
   "cell_type": "code",
   "execution_count": 44,
   "id": "5a728294-c50e-45c4-8702-76bb49d5670f",
   "metadata": {},
   "outputs": [
    {
     "data": {
      "text/plain": [
       "'Alice\\nThe White Rabbit\\nThe Mouse\\nThe Dodo\\nThe Lory\\nThe Eaglet\\nThe Duck\\nPat\\nBill the Lizard\\nPuppy\\nThe Caterpillar\\nThe Duchess\\nThe Cheshire Cat\\nThe Hatter\\nThe March Hare\\nThe Dormouse\\nThe Queen of Hearts\\nThe King of Hearts\\nThe Knave of Hearts\\nThe Gryphon\\nThe Mock Turtle'"
      ]
     },
     "execution_count": 44,
     "metadata": {},
     "output_type": "execute_result"
    }
   ],
   "source": [
    "# Create a collection of the characters\n",
    "\n",
    "characters_elems = driver.find_elements(by = By.CLASS_NAME, value = 'div-col')\n",
    "characters_elems[0].text"
   ]
  },
  {
   "cell_type": "code",
   "execution_count": 57,
   "id": "048338d6-60d0-4d09-bcfc-4075476abafb",
   "metadata": {},
   "outputs": [
    {
     "data": {
      "text/plain": [
       "['Alice',\n",
       " 'The White Rabbit',\n",
       " 'The Mouse',\n",
       " 'The Dodo',\n",
       " 'The Lory',\n",
       " 'The Eaglet',\n",
       " 'The Duck',\n",
       " 'Pat',\n",
       " 'Bill the Lizard',\n",
       " 'Puppy',\n",
       " 'The Caterpillar',\n",
       " 'The Duchess',\n",
       " 'The Cheshire Cat',\n",
       " 'The Hatter',\n",
       " 'The March Hare',\n",
       " 'The Dormouse',\n",
       " 'The Queen of Hearts',\n",
       " 'The King of Hearts',\n",
       " 'The Knave of Hearts',\n",
       " 'The Gryphon',\n",
       " 'The Mock Turtle']"
      ]
     },
     "execution_count": 57,
     "metadata": {},
     "output_type": "execute_result"
    }
   ],
   "source": [
    "list_char = characters_elems[0].text.split(\"\\n\")\n",
    "list_char"
   ]
  },
  {
   "cell_type": "code",
   "execution_count": 58,
   "id": "d7400987-357d-4087-9719-6672e148b4e9",
   "metadata": {},
   "outputs": [
    {
     "name": "stdout",
     "output_type": "stream",
     "text": [
      "              character character_alias\n",
      "0                 Alice           Alice\n",
      "1      The White Rabbit          Rabbit\n",
      "2             The Mouse           Mouse\n",
      "3              The Dodo            Dodo\n",
      "4              The Lory            Lory\n",
      "5            The Eaglet          Eaglet\n",
      "6              The Duck            Duck\n",
      "7                   Pat             Pat\n",
      "8       Bill the Lizard          Lizard\n",
      "9                 Puppy           Puppy\n",
      "10      The Caterpillar     Caterpillar\n",
      "11          The Duchess         Duchess\n",
      "12     The Cheshire Cat        Cheshire\n",
      "13           The Hatter          Hatter\n",
      "14       The March Hare            Hare\n",
      "15         The Dormouse        Dormouse\n",
      "16  The Queen of Hearts           Queen\n",
      "17   The King of Hearts            King\n",
      "18  The Knave of Hearts           Knave\n",
      "19          The Gryphon         Gryphon\n",
      "20      The Mock Turtle          Turtle\n"
     ]
    }
   ],
   "source": [
    "#import pandas as pd\n",
    "#import re\n",
    "\n",
    "# Define a custom alias generator\n",
    "def generate_alias(name):\n",
    "    name = name.strip()\n",
    "\n",
    "    custom_aliases = {\n",
    "        \"The Queen of Hearts\": \"Queen\",\n",
    "        \"The King of Hearts\": \"King\",\n",
    "        \"The Knave of Hearts\": \"Knave\",\n",
    "        \"The Cheshire Cat\": \"Cheshire\",\n",
    "        \"The March Hare\": \"Hare\",\n",
    "        \"Bill the Lizard\": \"Lizard\",\n",
    "        \"The Mock Turtle\": \"Turtle\",\n",
    "        \"The White Rabbit\": \"Rabbit\"\n",
    "    }\n",
    "\n",
    "    if name in custom_aliases:\n",
    "        return custom_aliases[name]\n",
    "\n",
    "    # Remove 'The' and return last word\n",
    "    name_cleaned = re.sub(r'^The\\s+', '', name, flags=re.IGNORECASE)\n",
    "    parts = name_cleaned.split()\n",
    "    return parts[-1] if parts else name\n",
    "\n",
    "# Create DataFrame\n",
    "character_df = pd.DataFrame({\n",
    "    \"character\": list_char\n",
    "})\n",
    "\n",
    "# Add alias column\n",
    "character_df[\"character_alias\"] = character_df[\"character\"].apply(generate_alias)\n",
    "\n",
    "# Show result\n",
    "print(character_df)"
   ]
  },
  {
   "cell_type": "code",
   "execution_count": 61,
   "id": "0c688450-1cf9-45c8-b943-1c61e08defb6",
   "metadata": {},
   "outputs": [
    {
     "name": "stdout",
     "output_type": "stream",
     "text": [
      "Saved to alice_characters_with_aliases.csv \n"
     ]
    }
   ],
   "source": [
    "character_df.to_csv(\"alice_characters_with_aliases.csv\", index=False)\n",
    "print(\"Saved to alice_characters_with_aliases.csv \")"
   ]
  },
  {
   "cell_type": "markdown",
   "id": "d1c09e56-5566-4298-b198-18aa2d9d4829",
   "metadata": {},
   "source": [
    "# Data Scraping using Beutiful Soup"
   ]
  },
  {
   "cell_type": "code",
   "execution_count": 64,
   "id": "2a17aa15-d5cd-4d97-9471-86b7611a582f",
   "metadata": {},
   "outputs": [],
   "source": [
    "# Get URL\n",
    "\n",
    "# page_url =  requests.get(\"https://en.wikipedia.org/wiki/Alice%27s_Adventures_in_Wonderland\")\n",
    "\n",
    "url = \"https://en.wikipedia.org/wiki/Alice%27s_Adventures_in_Wonderland\"\n",
    "response = requests.get(url)"
   ]
  },
  {
   "cell_type": "code",
   "execution_count": 65,
   "id": "12155cd6-2745-46f5-87e1-b3d9ab2265fa",
   "metadata": {},
   "outputs": [
    {
     "name": "stdout",
     "output_type": "stream",
     "text": [
      "<title>Alice's Adventures in Wonderland - Wikipedia</title>\n"
     ]
    }
   ],
   "source": [
    "# Create soup and get title\n",
    "\n",
    "soup = BeautifulSoup(response.text, 'html.parser')\n",
    "print(soup.title) "
   ]
  },
  {
   "cell_type": "code",
   "execution_count": 66,
   "id": "40719ef0-d745-4393-9f35-1a4f1f4512d7",
   "metadata": {},
   "outputs": [],
   "source": [
    "text = soup.get_text()\n",
    "\n",
    "text = text.encode ('utf-8')\n",
    "\n",
    "with open('Alice_article_Wiki.txt', 'wb') as f:\n",
    "       f.write(text)"
   ]
  },
  {
   "cell_type": "code",
   "execution_count": null,
   "id": "6386259d-a4bb-4bbf-b8ff-680e70807724",
   "metadata": {},
   "outputs": [],
   "source": []
  }
 ],
 "metadata": {
  "kernelspec": {
   "display_name": "Python [conda env:alice_env_310] *",
   "language": "python",
   "name": "conda-env-alice_env_310-py"
  },
  "language_info": {
   "codemirror_mode": {
    "name": "ipython",
    "version": 3
   },
   "file_extension": ".py",
   "mimetype": "text/x-python",
   "name": "python",
   "nbconvert_exporter": "python",
   "pygments_lexer": "ipython3",
   "version": "3.10.16"
  }
 },
 "nbformat": 4,
 "nbformat_minor": 5
}
